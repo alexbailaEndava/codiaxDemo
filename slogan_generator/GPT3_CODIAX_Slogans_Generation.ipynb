{
 "cells": [
  {
   "cell_type": "code",
   "execution_count": 6,
   "id": "793d9734",
   "metadata": {
    "scrolled": true
   },
   "outputs": [
    {
     "name": "stdout",
     "output_type": "stream",
     "text": [
      "Take the below keywords and compose funny or sarcastic marketing slogans:\n",
      "\n",
      "Teams, external meetings, permission\n",
      "\"On Teams, we will ruin your day with external meetings... without your permission!\"\n",
      "\n",
      "password, password retrieve\n",
      "\"Forgot your password? No problem! We'll help you retrieve it... for a price.\"\n",
      "\n",
      "sign in, credentials\n",
      "\"Sign in with your credentials... and prepare to be disappointed!\"\n",
      "\n",
      "work, life, weather\n",
      "\"Work, life, weather... it's all the same when you're stuck inside!\"\n"
     ]
    }
   ],
   "source": [
    "# read the initial prompt file\n",
    "with open('initial_funny.txt') as f:\n",
    "    initial_prompt = f.read()\n",
    "    print(initial_prompt)"
   ]
  },
  {
   "cell_type": "code",
   "execution_count": 7,
   "id": "13a1caa1",
   "metadata": {},
   "outputs": [
    {
     "data": {
      "text/plain": [
       "'\"If you can\\'t live without your keyboard, mouse, and monitor, we\\'ve got the perfect job for you!\"'"
      ]
     },
     "execution_count": 7,
     "metadata": {},
     "output_type": "execute_result"
    }
   ],
   "source": [
    "# run a test query on the davinci model\n",
    "import os\n",
    "import openai\n",
    "from getKey import getKey\n",
    "\n",
    "os.chdir(\"..\")\n",
    "key = getKey()\n",
    "os.chdir(\"slogan_generator\")\n",
    "\n",
    "OPENAI_API_KEY = key\n",
    "\n",
    "restart_sequence = \"\\n\"\n",
    "inquire = \"keyboard, mouse, monitor\"\n",
    "response = openai.Completion.create(\n",
    "  model=\"text-davinci-002\",\n",
    "  prompt=initial_prompt+\"\\n\"+inquire+\"\\n\",\n",
    "  temperature=0.3,\n",
    "  max_tokens=25,\n",
    "  top_p=1,\n",
    "  frequency_penalty=0.8,\n",
    "  presence_penalty=0\n",
    ")\n",
    "# response\n",
    "response.choices[0].text.strip()"
   ]
  },
  {
   "cell_type": "code",
   "execution_count": 8,
   "id": "5fba7b73",
   "metadata": {},
   "outputs": [
    {
     "data": {
      "text/plain": [
       "0              email address, parental leave\n",
       "1                 consultant, Teams, sign in\n",
       "2                            e-mail, address\n",
       "3         delete, accounts, Active Directory\n",
       "4              IT request, monitor, keyboard\n",
       "5                     install, Webex, laptop\n",
       "6            login credentials, new employee\n",
       "7                            reset, password\n",
       "8              Power BI Pro, access, reports\n",
       "9                              laptop, order\n",
       "10    password, refresh, password expiration\n",
       "11                        fun, weather, life\n",
       "Name: keywords, dtype: object"
      ]
     },
     "execution_count": 8,
     "metadata": {},
     "output_type": "execute_result"
    }
   ],
   "source": [
    "# open the file with keywords to query\n",
    "import pandas as pd\n",
    "requests = pd.read_csv(\"keywords_list.csv\")\n",
    "requests = requests[\"keywords\"]\n",
    "requests"
   ]
  },
  {
   "cell_type": "code",
   "execution_count": 9,
   "id": "536c2c47",
   "metadata": {},
   "outputs": [
    {
     "name": "stdout",
     "output_type": "stream",
     "text": [
      "\n",
      "________________________________________________________________\n",
      "\n",
      " email address, parental leave\n",
      "\n",
      " \"We'll never give out your email address... unless you're on parental leave!\"\n",
      "\n",
      "________________________________________________________________\n",
      "\n",
      " consultant, Teams, sign in\n",
      "\n",
      " \"As a consultant, I can help you sign in to Teams... and ruin your life!\"\n",
      "\n",
      "________________________________________________________________\n",
      "\n",
      " e-mail, address\n",
      "\n",
      " \"E-mail us your address... so we can spam you with unwanted offers!\"\n",
      "\n",
      "________________________________________________________________\n",
      "\n",
      " delete, accounts, Active Directory\n",
      "\n",
      " \"Delete your accounts... before Active Directory does it for you!\"\n",
      "\n",
      "________________________________________________________________\n",
      "\n",
      " IT request, monitor, keyboard\n",
      "\n",
      " \"IT requests are like a broken monitor... you can't fix them with a keyboard!\"\n",
      "\n",
      "________________________________________________________________\n",
      "\n",
      " install, Webex, laptop\n",
      "\n",
      " \"Install Webex on your laptop... and say goodbye to your social life!\"\n",
      "\n",
      "________________________________________________________________\n",
      "\n",
      " login credentials, new employee\n",
      "\n",
      " \"Welcome to the company! Login with your credentials... and start your new life of misery!\"\n",
      "\n",
      "________________________________________________________________\n",
      "\n",
      " reset, password\n",
      "\n",
      " \"Reset your password... and hope you remember it this time!\"\n",
      "\n",
      "________________________________________________________________\n",
      "\n",
      " Power BI Pro, access, reports\n",
      "\n",
      " \"Power BI Pro: because you're not the only one who needs access to your reports!\"\n",
      "\n",
      "________________________________________________________________\n",
      "\n",
      " laptop, order\n",
      "\n",
      " \"Laptop or order? You can't have both!\"\n",
      "\n",
      "________________________________________________________________\n",
      "\n",
      " password, refresh, password expiration\n",
      "\n",
      " \"Don't worry, your password will refresh itself... right before it expires!\"\n",
      "\n",
      "________________________________________________________________\n",
      "\n",
      " fun, weather, life\n",
      "\n",
      " \"Fun, weather, life... it's all the same when you're stuck inside!\"\n"
     ]
    }
   ],
   "source": [
    "# query the davinci model with multiple requests\n",
    "responses=[]\n",
    "for query in requests: \n",
    "    restart_sequence = \"\\n\"\n",
    "    inquire = query\n",
    "    response = openai.Completion.create(\n",
    "        model=\"text-davinci-002\",\n",
    "        prompt=initial_prompt+\"\\n\"+inquire+\"\\n\",\n",
    "        temperature=0.3,\n",
    "        max_tokens=25,\n",
    "        top_p=1,\n",
    "        frequency_penalty=0.8,\n",
    "        presence_penalty=0)\n",
    "    print(\"\\n________________________________________________________________\")\n",
    "    print(\"\\n\", query)\n",
    "    print(\"\\n\", response.choices[0].text.strip())\n",
    "    responses.append(response.choices[0].text.strip())\n",
    "df = pd.DataFrame(responses)"
   ]
  },
  {
   "cell_type": "code",
   "execution_count": 10,
   "id": "26947020",
   "metadata": {},
   "outputs": [],
   "source": [
    "# save results into a csv file\n",
    "# df.to_csv(\"funny_list.csv\", index=False)"
   ]
  },
  {
   "cell_type": "code",
   "execution_count": null,
   "id": "a4a7b1cb",
   "metadata": {},
   "outputs": [],
   "source": []
  }
 ],
 "metadata": {
  "kernelspec": {
   "display_name": "Python 3 (ipykernel)",
   "language": "python",
   "name": "python3"
  },
  "language_info": {
   "codemirror_mode": {
    "name": "ipython",
    "version": 3
   },
   "file_extension": ".py",
   "mimetype": "text/x-python",
   "name": "python",
   "nbconvert_exporter": "python",
   "pygments_lexer": "ipython3",
   "version": "3.9.0"
  },
  "vscode": {
   "interpreter": {
    "hash": "ebe85e15a34bc4ebe8b19c9f828333a8f02665a6aa0e9b3c8b4b2071dda50789"
   }
  }
 },
 "nbformat": 4,
 "nbformat_minor": 5
}
