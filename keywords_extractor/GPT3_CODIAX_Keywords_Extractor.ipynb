{
 "cells": [
  {
   "cell_type": "code",
   "execution_count": 6,
   "id": "793d9734",
   "metadata": {
    "scrolled": true
   },
   "outputs": [
    {
     "name": "stdout",
     "output_type": "stream",
     "text": [
      "Extract keywords and intention from the following e-mails:\n",
      "\n",
      "Hi Team! The new joiner will be starting today. Where can we retrieve her password? She already have the email address set up.\n",
      "keywords: password, password retrieve\n",
      "\n",
      "Hi Endava! I'd like to get access to using Forms in MS Teams. Can you please advise on how to do this? Many Thanks!\n",
      "keywords: access, Forms, MS Teams\n",
      "\n",
      "Hi All! Do I need permission on Teams to be able to arrange external meetings? If so could I be granted them please? Thx!\n",
      "keywords: permission, Teams, external meetings\n"
     ]
    }
   ],
   "source": [
    "# read the initial prompt file\n",
    "with open('initial_prompt.txt') as f:\n",
    "    initial_prompt = f.read()\n",
    "    print(initial_prompt)"
   ]
  },
  {
   "cell_type": "code",
   "execution_count": 7,
   "id": "13a1caa1",
   "metadata": {},
   "outputs": [
    {
     "data": {
      "text/plain": [
       "'keywords: email address, parental leave'"
      ]
     },
     "execution_count": 7,
     "metadata": {},
     "output_type": "execute_result"
    }
   ],
   "source": [
    "# run a test query on the davinci model\n",
    "import os\n",
    "import openai\n",
    "from getKey import getKey\n",
    "\n",
    "os.chdir(\"..\")\n",
    "key = getKey()\n",
    "os.chdir(\"keywords_extractor\")\n",
    "\n",
    "OPENAI_API_KEY = key\n",
    "\n",
    "restart_sequence = \"\\n\"\n",
    "inquire = \"Hi Team! Hellen is coming back from parental leave. Could you please advise when her email address will be restored?\"\n",
    "response = openai.Completion.create(\n",
    "  model=\"text-davinci-002\",\n",
    "  prompt=initial_prompt+\"\\n\"+inquire+\"\\n\",\n",
    "  temperature=0.3,\n",
    "  max_tokens=25,\n",
    "  top_p=1,\n",
    "  frequency_penalty=0.8,\n",
    "  presence_penalty=0\n",
    ")\n",
    "# response\n",
    "response.choices[0].text.strip()"
   ]
  },
  {
   "cell_type": "code",
   "execution_count": 8,
   "id": "5fba7b73",
   "metadata": {},
   "outputs": [
    {
     "data": {
      "text/plain": [
       "0     Hi Team! Hellen is coming back from parental l...\n",
       "1     Hi Team! A consultant has installed the Teams ...\n",
       "2     Hi Endava! Debbie has changed her surname to A...\n",
       "3     Hi Endava! A member of our team is leaving. Ho...\n",
       "4     Hi there! I have opened an IT request for a mo...\n",
       "5     Hi! Can you please advise on how can I install...\n",
       "6     Good Morning! I am a new employee and I have n...\n",
       "7     Greetings! I think I need to reset my password...\n",
       "8     Hi Team! I need the Power BI Pro to access one...\n",
       "9     Hello there! Can you please send me the link t...\n",
       "10    Hi! I need to refresh my password before expir...\n",
       "Name: Request, dtype: object"
      ]
     },
     "execution_count": 8,
     "metadata": {},
     "output_type": "execute_result"
    }
   ],
   "source": [
    "# open the file with the e-mails to query\n",
    "import pandas as pd\n",
    "requests = pd.read_csv(\"multiple_requests.csv\")\n",
    "requests = requests[\"Request\"]\n",
    "requests"
   ]
  },
  {
   "cell_type": "code",
   "execution_count": 9,
   "id": "536c2c47",
   "metadata": {},
   "outputs": [
    {
     "name": "stdout",
     "output_type": "stream",
     "text": [
      "\n",
      "________________________________________________________________\n",
      "\n",
      " Hi Team! Hellen is coming back from parental leave. Could you please advise when her email address will be restored?\n",
      "\n",
      " keywords: email address, parental leave\n",
      "\n",
      "________________________________________________________________\n",
      "\n",
      " Hi Team! A consultant has installed the Teams app but I have not received the credentials to sign in? Thanks!\n",
      "\n",
      " keywords: Teams, sign in, credentials\n",
      "\n",
      "________________________________________________________________\n",
      "\n",
      " Hi Endava! Debbie has changed her surname to Anderson. Could you please change her e-mail address accordingly?\n",
      "\n",
      " keywords: e-mail address, change\n",
      "\n",
      "________________________________________________________________\n",
      "\n",
      " Hi Endava! A member of our team is leaving. How do we delete all his accounts from Active Directory? Thanks!\n",
      "\n",
      " keywords: delete, accounts, Active Directory\n",
      "\n",
      "________________________________________________________________\n",
      "\n",
      " Hi there! I have opened an IT request for a monitor and keyboard. Could you please take care of it asap? Thx!\n",
      "\n",
      " keywords: IT request, monitor, keyboard\n",
      "\n",
      "________________________________________________________________\n",
      "\n",
      " Hi! Can you please advise on how can I install Webex on my laptop? I'll need it for operational purpose. Kind regards.\n",
      "\n",
      " keywords: install, Webex, laptop\n",
      "\n",
      "________________________________________________________________\n",
      "\n",
      " Good Morning! I am a new employee and I have not yet received my login credentials. Could these be forwarded to me?\n",
      "\n",
      " keywords: login credentials, new employee\n",
      "\n",
      "________________________________________________________________\n",
      "\n",
      " Greetings! I think I need to reset my password. Could you please advise on how should I do that? Many Thanks!\n",
      "\n",
      " keywords: reset, password\n",
      "\n",
      "________________________________________________________________\n",
      "\n",
      " Hi Team! I need the Power BI Pro to access one of the reports shared with me. What are the next steps please? Thanks!\n",
      "\n",
      " keywords: Power BI Pro, access, reports\n",
      "\n",
      "________________________________________________________________\n",
      "\n",
      " Hello there! Can you please send me the link to the article on how to order a new laptop? Thanks.\n",
      "\n",
      " keywords: laptop, order\n",
      "\n",
      "________________________________________________________________\n",
      "\n",
      " Hi! I need to refresh my password before expiring. Could you please help me find the relevant link? Thank you .\n",
      "\n",
      " keywords: password, refresh\n"
     ]
    }
   ],
   "source": [
    "# query the davinci model with multiple requests\n",
    "responses=[]\n",
    "for query in requests: \n",
    "    restart_sequence = \"\\n\"\n",
    "    inquire = query\n",
    "    response = openai.Completion.create(\n",
    "        model=\"text-davinci-002\",\n",
    "        prompt=initial_prompt+\"\\n\"+inquire+\"\\n\",\n",
    "        temperature=0.3,\n",
    "        max_tokens=25,\n",
    "        top_p=1,\n",
    "        frequency_penalty=0.8,\n",
    "        presence_penalty=0)\n",
    "    print(\"\\n________________________________________________________________\")\n",
    "    print(\"\\n\", query)\n",
    "    print(\"\\n\", response.choices[0].text.strip())\n",
    "    responses.append(response.choices[0].text.strip())\n",
    "df = pd.DataFrame(responses)"
   ]
  },
  {
   "cell_type": "code",
   "execution_count": 5,
   "id": "26947020",
   "metadata": {},
   "outputs": [],
   "source": [
    "# save results into a csv file\n",
    "# df.to_csv(\"keywords_list.csv\", index=False)"
   ]
  },
  {
   "cell_type": "code",
   "execution_count": null,
   "id": "d43460fb",
   "metadata": {},
   "outputs": [],
   "source": []
  },
  {
   "cell_type": "code",
   "execution_count": null,
   "id": "ea65b6e7",
   "metadata": {},
   "outputs": [],
   "source": []
  }
 ],
 "metadata": {
  "kernelspec": {
   "display_name": "Python 3 (ipykernel)",
   "language": "python",
   "name": "python3"
  },
  "language_info": {
   "codemirror_mode": {
    "name": "ipython",
    "version": 3
   },
   "file_extension": ".py",
   "mimetype": "text/x-python",
   "name": "python",
   "nbconvert_exporter": "python",
   "pygments_lexer": "ipython3",
   "version": "3.9.0"
  },
  "vscode": {
   "interpreter": {
    "hash": "11938c6bc6919ae2720b4d5011047913343b08a43b18698fd82dedb0d4417594"
   }
  }
 },
 "nbformat": 4,
 "nbformat_minor": 5
}
