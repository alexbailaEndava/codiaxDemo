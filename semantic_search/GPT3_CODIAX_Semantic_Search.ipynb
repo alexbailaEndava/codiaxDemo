{
 "cells": [
  {
   "cell_type": "code",
   "execution_count": 6,
   "id": "793d9734",
   "metadata": {},
   "outputs": [
    {
     "name": "stdout",
     "output_type": "stream",
     "text": [
      "The following is a list of keywords and their respective article title:\n",
      "\n",
      "restore e-mail, e-mail address\n",
      "Article #1 - How to restore an e-mail address\n",
      "\n",
      "account credential, retreive credentials\n",
      "Article #2 - How to retreive account credentials\n",
      "\n",
      "name change request, e-mail change\n",
      "Article #3 - How to request a name and e-mail change\n",
      "\n",
      "remove account from AD, account deletion\n",
      "Article #4 - How to remove an account from Active Directory\n",
      "\n",
      "peripherials request, mouse, keyboard, monitor\n",
      "Article #5 - How to request peripherials (mouse, keyboard, monitor)\n",
      "\n",
      "install third-party programms, install applications\n",
      "Article #6 - How to install third-party programs and applications\n",
      "\n",
      "password reset, renew password\n",
      "Article #7 - How to reset or renew your password\n",
      "\n",
      "request access, teams, power BI, azure\n",
      "Article #8 - How to request access to MS apps (Teams, Power BI, Azure)\n",
      "\n",
      "new laptop, laptop request\n",
      "Article #9 - Hot to initiate a new laptop request\n",
      "\n",
      "help guide, newcomer\n",
      "Article #10 - Where do I begin (a help guide for newcommers)\n",
      "\n",
      "weather, life, fun\n",
      "Article #11 - Let's talk about weather (on how to have fun at Endava)\n",
      "\n",
      "When responding, pick the article only from the above categories. If no category code fits, return \"Article Unknown\".\n",
      "Please only return the article title. Do not generate new text and only provide answers in the format '<Aticle #> - <article title>'.\n",
      "\n",
      "What will be the article for the following keywords:\n"
     ]
    }
   ],
   "source": [
    "# read the initial prompt file\n",
    "with open('article_prompt.txt') as f:\n",
    "    initial_prompt = f.read()\n",
    "    print(initial_prompt)"
   ]
  },
  {
   "cell_type": "code",
   "execution_count": 7,
   "id": "857fe889",
   "metadata": {},
   "outputs": [
    {
     "data": {
      "text/plain": [
       "'Article Unknown'"
      ]
     },
     "execution_count": 7,
     "metadata": {},
     "output_type": "execute_result"
    }
   ],
   "source": [
    "# run a test query on the davinci model\n",
    "import os\n",
    "import openai\n",
    "from getKey import getKey\n",
    "\n",
    "os.chdir(\"..\")\n",
    "key = getKey()\n",
    "os.chdir(\"semantic_search\")\n",
    "\n",
    "openai.api_key = key\n",
    "\n",
    "restart_sequence = \"\\n\"\n",
    "keywords = \"love, life, autumn\"\n",
    "response = openai.Completion.create(\n",
    "  model = \"text-davinci-002\",\n",
    "  prompt = initial_prompt + \"\\n\" + keywords + \"\\n\",\n",
    "  temperature = 0.3,\n",
    "  max_tokens = 25,\n",
    "  top_p = 1,\n",
    "  frequency_penalty = 0.8,\n",
    "  presence_penalty = 0\n",
    ")\n",
    "# response\n",
    "response.choices[0].text.strip()"
   ]
  },
  {
   "cell_type": "code",
   "execution_count": 8,
   "id": "e6c73913",
   "metadata": {},
   "outputs": [
    {
     "data": {
      "text/plain": [
       "0              email address, parental leave\n",
       "1                 consultant, Teams, sign in\n",
       "2                            e-mail, address\n",
       "3         delete, accounts, Active Directory\n",
       "4              IT request, monitor, keyboard\n",
       "5                     install, Webex, laptop\n",
       "6            login credentials, new employee\n",
       "7                            reset, password\n",
       "8              Power BI Pro, access, reports\n",
       "9                              laptop, order\n",
       "10    password, refresh, password expiration\n",
       "11                        fun, weather, life\n",
       "Name: keywords, dtype: object"
      ]
     },
     "execution_count": 8,
     "metadata": {},
     "output_type": "execute_result"
    }
   ],
   "source": [
    "# open the file with keywords to query\n",
    "import pandas as pd\n",
    "requests = pd.read_csv(\"keywords_list.csv\")\n",
    "requests = requests[\"keywords\"]\n",
    "requests"
   ]
  },
  {
   "cell_type": "code",
   "execution_count": 9,
   "id": "07462525",
   "metadata": {},
   "outputs": [
    {
     "name": "stdout",
     "output_type": "stream",
     "text": [
      "\n",
      "________________________________________________________________\n",
      "\n",
      " email address, parental leave\n",
      "\n",
      " Article #1 - How to restore an e-mail address\n",
      "\n",
      "________________________________________________________________\n",
      "\n",
      " consultant, Teams, sign in\n",
      "\n",
      " Article #8 - How to request access to MS apps (Teams, Power BI, Azure)\n",
      "\n",
      "________________________________________________________________\n",
      "\n",
      " e-mail, address\n",
      "\n",
      " Article #1 - How to restore an e-mail address\n",
      "\n",
      "________________________________________________________________\n",
      "\n",
      " delete, accounts, Active Directory\n",
      "\n",
      " Article #4 - How to remove an account from Active Directory\n",
      "\n",
      "________________________________________________________________\n",
      "\n",
      " IT request, monitor, keyboard\n",
      "\n",
      " Article #5 - How to request peripherials (mouse, keyboard, monitor)\n",
      "\n",
      "________________________________________________________________\n",
      "\n",
      " install, Webex, laptop\n",
      "\n",
      " Article #6 - How to install third-party programs and applications\n",
      "\n",
      "________________________________________________________________\n",
      "\n",
      " login credentials, new employee\n",
      "\n",
      " Article #2 - How to retreive account credentials\n",
      "\n",
      "________________________________________________________________\n",
      "\n",
      " reset, password\n",
      "\n",
      " Article #7 - How to reset or renew your password\n",
      "\n",
      "________________________________________________________________\n",
      "\n",
      " Power BI Pro, access, reports\n",
      "\n",
      " Article #8 - How to request access to MS apps (Teams, Power BI, Azure)\n",
      "\n",
      "________________________________________________________________\n",
      "\n",
      " laptop, order\n",
      "\n",
      " Article #9 - How to initiate a new laptop request\n",
      "\n",
      "________________________________________________________________\n",
      "\n",
      " password, refresh, password expiration\n",
      "\n",
      " Article #7 - How to reset or renew your password\n",
      "\n",
      "________________________________________________________________\n",
      "\n",
      " fun, weather, life\n",
      "\n",
      " Article #11 - Let's talk about weather (on how to have fun at Endava)\n"
     ]
    }
   ],
   "source": [
    "# query the davinci model with multiple requests\n",
    "responses=[]\n",
    "for query in requests: \n",
    "    restart_sequence = \"\\n\"\n",
    "    inquire = query\n",
    "    response = openai.Completion.create(\n",
    "        model = \"text-davinci-002\",\n",
    "        prompt = initial_prompt + \"\\n\" + inquire + \"\\n\",\n",
    "        temperature = 0,\n",
    "        max_tokens = 25,\n",
    "        top_p = 1,\n",
    "        frequency_penalty = 0,\n",
    "        presence_penalty = 0)\n",
    "    print(\"\\n________________________________________________________________\")\n",
    "    print(\"\\n\", query)\n",
    "    print(\"\\n\", response.choices[0].text.strip())\n",
    "    responses.append(response.choices[0].text.strip())\n",
    "df = pd.DataFrame(responses)"
   ]
  },
  {
   "cell_type": "code",
   "execution_count": 10,
   "id": "c81a5e6b",
   "metadata": {},
   "outputs": [],
   "source": [
    "# save results into a csv file\n",
    "# df.to_csv(\"extracted_articles.csv\", index=False)"
   ]
  },
  {
   "cell_type": "code",
   "execution_count": null,
   "id": "9bf3852c",
   "metadata": {},
   "outputs": [],
   "source": []
  },
  {
   "cell_type": "code",
   "execution_count": null,
   "id": "ab3b0bb2",
   "metadata": {},
   "outputs": [],
   "source": []
  }
 ],
 "metadata": {
  "kernelspec": {
   "display_name": "Python 3 (ipykernel)",
   "language": "python",
   "name": "python3"
  },
  "language_info": {
   "codemirror_mode": {
    "name": "ipython",
    "version": 3
   },
   "file_extension": ".py",
   "mimetype": "text/x-python",
   "name": "python",
   "nbconvert_exporter": "python",
   "pygments_lexer": "ipython3",
   "version": "3.9.0"
  },
  "vscode": {
   "interpreter": {
    "hash": "ebe85e15a34bc4ebe8b19c9f828333a8f02665a6aa0e9b3c8b4b2071dda50789"
   }
  }
 },
 "nbformat": 4,
 "nbformat_minor": 5
}
